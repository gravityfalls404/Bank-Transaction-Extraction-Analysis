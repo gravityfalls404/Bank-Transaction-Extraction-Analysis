{
 "cells": [
  {
   "cell_type": "code",
   "execution_count": 2,
   "id": "00000b61-5c40-48d4-a26d-53165f8c43b9",
   "metadata": {},
   "outputs": [],
   "source": [
    "import pandas as pd\n",
    "import openpyxl\n",
    "PATH_TO_EXCEL = \"/Users/prashantgaurav/Projects/KaajAi/receipts/Bank-Statement-Template-1-TemplateLab.xlsx\"\n",
    "\n"
   ]
  },
  {
   "cell_type": "code",
   "execution_count": 10,
   "id": "f32c6390-bc97-44af-b072-76f802ec6a3b",
   "metadata": {},
   "outputs": [
    {
     "name": "stdout",
     "output_type": "stream",
     "text": [
      "Image found in cell: A1\n"
     ]
    }
   ],
   "source": [
    "import openpyxl\n",
    "from openpyxl_image_loader import SheetImageLoader\n",
    "\n",
    "pxl_doc = openpyxl.load_workbook(PATH_TO_EXCEL)\n",
    "sheet = pxl_doc[pxl_doc.sheetnames[0]]\n",
    "\n",
    "#calling the image_loader\n",
    "image_loader = SheetImageLoader(sheet)\n",
    "\n",
    "cell_images = {}\n",
    "\n",
    "# Iterate over all cells in the sheet\n",
    "for row in sheet.iter_rows():\n",
    "    for cell in row:\n",
    "        if image_loader.image_in(cell.coordinate):\n",
    "            image = image_loader.get(cell.coordinate)\n",
    "            cell_images[cell.coordinate] = image\n",
    "\n",
    "# Print the coordinates of cells with images and display the images\n",
    "for cell_coord, image in cell_images.items():\n",
    "    print(f\"Image found in cell: {cell_coord}\")\n",
    "    image.show()  # This will display the image using the default image viewer"
   ]
  },
  {
   "cell_type": "code",
   "execution_count": 5,
   "id": "88223596-bf21-471f-b16c-e0f45c67d97e",
   "metadata": {},
   "outputs": [
    {
     "data": {
      "text/plain": [
       "openpyxl_image_loader.sheet_image_loader.SheetImageLoader"
      ]
     },
     "execution_count": 5,
     "metadata": {},
     "output_type": "execute_result"
    }
   ],
   "source": [
    "type(image_loader)"
   ]
  },
  {
   "cell_type": "code",
   "execution_count": 17,
   "id": "03d24e72-bb6c-45ef-b28e-5fc078be4036",
   "metadata": {},
   "outputs": [],
   "source": [
    "file = pd.read_excel(PATH_TO_EXCEL).fillna('').to_string(index=False)"
   ]
  },
  {
   "cell_type": "code",
   "execution_count": 92,
   "id": "94760c0f-a028-4b1b-b081-7012cc8428ac",
   "metadata": {},
   "outputs": [
    {
     "data": {
      "text/plain": [
       "'              Unnamed: 0                                                                    Unnamed: 1 Unnamed: 2 Unnamed: 3              Unnamed: 4           Unnamed: 5 Unnamed: 6 Unnamed: 7         Unnamed: 8\\n                         231 Valley Farms Street\\\\nSanta Monica, CA 90403\\\\nfirstcitizensbank@domain.com                                                                                                            \\n                                                                                                                                                                                                                  \\n                                                                                                                                                     STATEMENT OF ACCOUNT                                         \\n                                                                                                                                                                                                                  \\n                                                                                                                                                                                                                  \\n         Account Number:                                                               111-234-567-890                                                                                                            \\n         Statement Date:                                                                    05/28/2024                                                                                          Page   1    of   1\\n         Period Covered:                                                      04/29/2024 to 05/29/2024                                                                                                            \\n                                                                                                                                                                                                                  \\n              John Smith                                                                                                            Opening Balance:                                                        175800\\n2450 Courage St, STE 108                                                                                                        Total Credit Amount:                                                        510000\\n   Brownsville, TX 78521                                                                                                         Total Debit Amount:                                                         94000\\n                                                                                                                                    Closing Balance:                                                        591800\\n             Brownsville                                                                                                               Account Type:                                               Current Account\\n                                                                                                                             Number of Transactions:                                                             8\\n                                                                                                                                                                                                                  \\n            Transactions                                                                                                                                                                                          \\n                    Date                                                                   Description                                        Credit                           Debit                       Balance\\n              05/26/2024                                                         Payment - Credit Card                                                                          5400                        170400\\n              05/21/2024                                                           Payment - Insurance                                                                          3000                        167400\\n              05/18/2024                                                           Account Transfer In                                        500000                                                        667400\\n              05/16/2024                                                               Cheque Deposite                                         10000                                                        677400\\n     2024-09-05 00:00:00                                                         Payment - Electricity                                                                          1500                        675900\\n     2024-03-05 00:00:00                                                       Payment - Water Utility                                                                           600                        675300\\n     2024-03-05 00:00:00                                                            Payment - Car Loan                                                                          3500                        671800\\n     2024-01-05 00:00:00                                                          Account Transfer Out                                                                         80000                        591800\\n                                                                           --- End of Transactions ---                                                                                                            \\n                                                                                                                                                                                                                  \\n                                                                                                                                                                                                                  \\n                                                                                                                                                                                                                  \\n                                                                                                                                                                                                                  \\n                                                                                                                                                                                                                  \\n                                                                                                                                                                                                                  \\n                                                                                                                                                                                                                  \\n                                                                                                                                                                                                                  \\n                                                                                                                                                                                                                  \\n                                                                                                                                                                                                                  \\n                                                                                                                                                                                                                  \\n                                                                                                                                                                                                                  \\n                                                                                                                                                                                                                  \\n                                                                                                                                                                                                                  \\n                                                                                                                                                                                                                  \\n                                                                                                                                                                                                                  \\n                                                                                                                                                                                                                  \\n                                                                                                                                                                                                                  \\n                                                                                                                                                                                                                  \\n                                                                                                                                                                                                                  '"
      ]
     },
     "execution_count": 92,
     "metadata": {},
     "output_type": "execute_result"
    }
   ],
   "source": [
    "file"
   ]
  },
  {
   "cell_type": "code",
   "execution_count": 96,
   "id": "d5b2edc0-72fe-4aa4-af8f-a46251b926a0",
   "metadata": {},
   "outputs": [],
   "source": [
    "import openai\n",
    "import os\n",
    "client = openai.Client(api_key=os.environ.get(\"OPENAI_API_KEY\"))\n",
    "\n",
    "prompt = \"\"\"I'm going to give you the contents of a pdf of a bank statement. The text containes transaction records along with other things.\n",
    "you job is to parse each transaction record and return the details like date, description, amount and type - credit or debit. Return these information in a tabular format. \n",
    "Create a seperate column in the returned table named type whose value will be credit or debit.\"\"\"\n",
    "\n",
    "docs = [{\"role\": \"system\", \"content\": prompt + '\\n' + file}]\n",
    "response = client.chat.completions.create(\n",
    "                model=\"gpt-4\",\n",
    "                messages=docs\n",
    "            )"
   ]
  },
  {
   "cell_type": "code",
   "execution_count": 97,
   "id": "f0915792-7336-40ac-9ff2-0c94365b194b",
   "metadata": {},
   "outputs": [],
   "source": [
    "resp = response.choices[0].message.content"
   ]
  },
  {
   "cell_type": "code",
   "execution_count": 98,
   "id": "70064281-e2a7-4179-af0c-81d214d98d82",
   "metadata": {},
   "outputs": [
    {
     "name": "stdout",
     "output_type": "stream",
     "text": [
      "| Date        | Description         | Amount | Type  |\n",
      "|-------------|---------------------|--------|-------|\n",
      "| 05/26/2024  | Payment - Credit Card | 5400  | Debit |\n",
      "| 05/21/2024  | Payment - Insurance   | 3000  | Debit |\n",
      "| 05/18/2024  | Account Transfer In | 500000 | Credit |\n",
      "| 05/16/2024  | Cheque Deposite      | 10000 | Credit |\n",
      "| 05/09/2024  | Payment - Electricity | 1500  | Debit |\n",
      "| 05/03/2024  | Payment - Water Utility | 600  | Debit |\n",
      "| 05/03/2024  | Payment - Car Loan | 3500 | Debit |\n",
      "| 05/01/2024  | Account Transfer Out | 80000 | Debit |\n"
     ]
    }
   ],
   "source": [
    "print(resp)"
   ]
  },
  {
   "cell_type": "code",
   "execution_count": 83,
   "id": "88452b28-da60-41a4-a59d-0528b76a7a89",
   "metadata": {},
   "outputs": [],
   "source": []
  },
  {
   "cell_type": "code",
   "execution_count": 88,
   "id": "98fc1404-662f-415a-a117-928ed946ac92",
   "metadata": {},
   "outputs": [],
   "source": [
    "def parse_response_table(table):\n",
    "    lines = resp.strip().split(\"\\n\")\n",
    "    table = [line.split('|') for line in lines]\n",
    "    final_table = []\n",
    "    for line in table:\n",
    "        new_line = []\n",
    "        for ele in line:\n",
    "            ele = ele.replace('-','')\n",
    "            if ele :\n",
    "               new_line.append(ele.strip())\n",
    "        if not new_line:\n",
    "            continue\n",
    "        final_table.append(new_line)\n",
    "    return final_table\n",
    "x = parse_response_table(table)"
   ]
  },
  {
   "cell_type": "code",
   "execution_count": 89,
   "id": "6ea28d6a-05d6-4f31-a51f-d16534fc0525",
   "metadata": {
    "scrolled": true
   },
   "outputs": [
    {
     "data": {
      "text/plain": [
       "[['Date', 'Description', 'Amount', 'Type'],\n",
       " ['05/26/2024', 'Payment  Credit Card', '5400', 'Debit'],\n",
       " ['05/21/2024', 'Payment  Insurance', '3000', 'Debit'],\n",
       " ['05/18/2024', 'Account Transfer In', '500000', 'Credit'],\n",
       " ['05/16/2024', 'Cheque Deposite', '10000', 'Credit'],\n",
       " ['05/09/2024', 'Payment  Electricity', '1500', 'Debit'],\n",
       " ['05/03/2024', 'Payment  Water Utility', '600', 'Debit'],\n",
       " ['05/03/2024', 'Payment  Car Loan', '3500', 'Debit'],\n",
       " ['05/01/2024', 'Account Transfer Out', '80000', 'Debit']]"
      ]
     },
     "execution_count": 89,
     "metadata": {},
     "output_type": "execute_result"
    }
   ],
   "source": [
    "x"
   ]
  },
  {
   "cell_type": "code",
   "execution_count": 90,
   "id": "4220ac72-aec9-42de-ad1b-569471ee0912",
   "metadata": {},
   "outputs": [],
   "source": [
    "df = pd.DataFrame(x[1:],columns=x[0])"
   ]
  },
  {
   "cell_type": "code",
   "execution_count": 91,
   "id": "c6776353-3e9b-4357-8c66-1f5192dcf485",
   "metadata": {},
   "outputs": [
    {
     "data": {
      "text/html": [
       "<div>\n",
       "<style scoped>\n",
       "    .dataframe tbody tr th:only-of-type {\n",
       "        vertical-align: middle;\n",
       "    }\n",
       "\n",
       "    .dataframe tbody tr th {\n",
       "        vertical-align: top;\n",
       "    }\n",
       "\n",
       "    .dataframe thead th {\n",
       "        text-align: right;\n",
       "    }\n",
       "</style>\n",
       "<table border=\"1\" class=\"dataframe\">\n",
       "  <thead>\n",
       "    <tr style=\"text-align: right;\">\n",
       "      <th></th>\n",
       "      <th>Date</th>\n",
       "      <th>Description</th>\n",
       "      <th>Amount</th>\n",
       "      <th>Type</th>\n",
       "    </tr>\n",
       "  </thead>\n",
       "  <tbody>\n",
       "    <tr>\n",
       "      <th>0</th>\n",
       "      <td>05/26/2024</td>\n",
       "      <td>Payment  Credit Card</td>\n",
       "      <td>5400</td>\n",
       "      <td>Debit</td>\n",
       "    </tr>\n",
       "    <tr>\n",
       "      <th>1</th>\n",
       "      <td>05/21/2024</td>\n",
       "      <td>Payment  Insurance</td>\n",
       "      <td>3000</td>\n",
       "      <td>Debit</td>\n",
       "    </tr>\n",
       "    <tr>\n",
       "      <th>2</th>\n",
       "      <td>05/18/2024</td>\n",
       "      <td>Account Transfer In</td>\n",
       "      <td>500000</td>\n",
       "      <td>Credit</td>\n",
       "    </tr>\n",
       "    <tr>\n",
       "      <th>3</th>\n",
       "      <td>05/16/2024</td>\n",
       "      <td>Cheque Deposite</td>\n",
       "      <td>10000</td>\n",
       "      <td>Credit</td>\n",
       "    </tr>\n",
       "    <tr>\n",
       "      <th>4</th>\n",
       "      <td>05/09/2024</td>\n",
       "      <td>Payment  Electricity</td>\n",
       "      <td>1500</td>\n",
       "      <td>Debit</td>\n",
       "    </tr>\n",
       "    <tr>\n",
       "      <th>5</th>\n",
       "      <td>05/03/2024</td>\n",
       "      <td>Payment  Water Utility</td>\n",
       "      <td>600</td>\n",
       "      <td>Debit</td>\n",
       "    </tr>\n",
       "    <tr>\n",
       "      <th>6</th>\n",
       "      <td>05/03/2024</td>\n",
       "      <td>Payment  Car Loan</td>\n",
       "      <td>3500</td>\n",
       "      <td>Debit</td>\n",
       "    </tr>\n",
       "    <tr>\n",
       "      <th>7</th>\n",
       "      <td>05/01/2024</td>\n",
       "      <td>Account Transfer Out</td>\n",
       "      <td>80000</td>\n",
       "      <td>Debit</td>\n",
       "    </tr>\n",
       "  </tbody>\n",
       "</table>\n",
       "</div>"
      ],
      "text/plain": [
       "         Date             Description  Amount    Type\n",
       "0  05/26/2024    Payment  Credit Card    5400   Debit\n",
       "1  05/21/2024      Payment  Insurance    3000   Debit\n",
       "2  05/18/2024     Account Transfer In  500000  Credit\n",
       "3  05/16/2024         Cheque Deposite   10000  Credit\n",
       "4  05/09/2024    Payment  Electricity    1500   Debit\n",
       "5  05/03/2024  Payment  Water Utility     600   Debit\n",
       "6  05/03/2024       Payment  Car Loan    3500   Debit\n",
       "7  05/01/2024    Account Transfer Out   80000   Debit"
      ]
     },
     "execution_count": 91,
     "metadata": {},
     "output_type": "execute_result"
    }
   ],
   "source": [
    "df"
   ]
  },
  {
   "cell_type": "code",
   "execution_count": null,
   "id": "fb6ea74b-1a43-4a20-9a63-d96144f115ec",
   "metadata": {},
   "outputs": [],
   "source": []
  },
  {
   "cell_type": "code",
   "execution_count": null,
   "id": "39ea0543-bed6-4b19-8053-e2f0711fa1e6",
   "metadata": {},
   "outputs": [],
   "source": []
  }
 ],
 "metadata": {
  "kernelspec": {
   "display_name": "Python 3 (ipykernel)",
   "language": "python",
   "name": "python3"
  },
  "language_info": {
   "codemirror_mode": {
    "name": "ipython",
    "version": 3
   },
   "file_extension": ".py",
   "mimetype": "text/x-python",
   "name": "python",
   "nbconvert_exporter": "python",
   "pygments_lexer": "ipython3",
   "version": "3.10.14"
  }
 },
 "nbformat": 4,
 "nbformat_minor": 5
}
