{
 "cells": [
  {
   "cell_type": "markdown",
   "id": "dd4f7400-8c77-4fae-9839-c58792dbe635",
   "metadata": {},
   "source": [
    "### Experiement with how to reduct the docuemnt to be parsed. Number of tokens is too hight. Try to experiement with date."
   ]
  },
  {
   "cell_type": "code",
   "execution_count": 109,
   "id": "5d57504e-7c9b-42d0-86ca-89c5030cd48d",
   "metadata": {},
   "outputs": [],
   "source": [
    "import openai\n",
    "import docx\n",
    "import pandas as pd\n",
    "FILE_NAME = \"/Users/prashantgaurav/Projects/KaajAi/receipts/bank-statement-template-20.docx\"\n",
    "\n",
    "def getText(filename):\n",
    "    doc = docx.Document(filename)\n",
    "    fullText = []\n",
    "    for para in doc.paragraphs:\n",
    "        fullText.append(para.text)\n",
    "    return '\\n'.join(fullText)"
   ]
  },
  {
   "cell_type": "code",
   "execution_count": 110,
   "id": "e03634ae-edac-4457-9eab-f33d956549aa",
   "metadata": {},
   "outputs": [],
   "source": [
    "import openai\n",
    "import os\n",
    "client = openai.Client(api_key=os.environ.get(\"OPENAI_API_KEY\"))\n",
    "text = getText(FILE_NAME)"
   ]
  },
  {
   "cell_type": "code",
   "execution_count": 111,
   "id": "0d508e0f-2c8c-49f8-8fb6-09a306868fee",
   "metadata": {},
   "outputs": [],
   "source": [
    "doc = docx.Document(FILE_NAME)\n",
    "text = \"\"\n",
    "for table in doc.tables:\n",
    "    for row in table.rows:\n",
    "        for cell in row.cells:\n",
    "            text+= cell.text"
   ]
  },
  {
   "cell_type": "code",
   "execution_count": 112,
   "id": "2f7b19a3-ef06-4b98-8a6e-d59590df1498",
   "metadata": {},
   "outputs": [
    {
     "data": {
      "text/plain": [
       "'CHECKING SUMMARY\\nINSTANCES\\nAMOUNTBeginning Balance$81,607.40Deposits and Additions10125,883.63Checks Paid2- 3,169.04DATEDESCRIPTIONAMOUNT07/02Deposit$17,120.0007/09Deposit24,610.0007/14Deposit11,424.0007/15Deposit1,349.0007/21Deposit5,000.0007/21Deposit3,120.0007/23Deposit33,138.0007/28Deposit18,114.0007/30Deposit6,908.6307/30Deposit5,100.00\\nCHECK NUMBER\\nDESCRIPTIONDATE PAID\\nAMOUNTXXXX\\t^07/14$1,471.99XXXX\\t^07/081,697.05Total Checks Paid$3,169.04DATEDESCRIPTIONAMOUNT07/11Online Payment XXXXX To Vendor$8,928.0007/11Online Payment XXXXX To Vendor2,960.0007/25Online Payment XXXXX To Vendor250.0007/30ADP TX/Fincl Svc ADP2,887.68DATEAMOUNTDATEAMOUNT07/02$98,727.4007/21129,173.3607/0897,030.3507/23162,311.3607/09121,640.3507/25162,061.3607/11109,752.3507/28180,175.3607/14108,280.3607/30189,296.3107/16121,053.36'"
      ]
     },
     "execution_count": 112,
     "metadata": {},
     "output_type": "execute_result"
    }
   ],
   "source": [
    "text"
   ]
  },
  {
   "cell_type": "code",
   "execution_count": 113,
   "id": "9ca32270-fbb0-4530-bc74-15293e407af1",
   "metadata": {},
   "outputs": [
    {
     "name": "stdout",
     "output_type": "stream",
     "text": [
      "CPU times: user 17.4 ms, sys: 12.8 ms, total: 30.2 ms\n",
      "Wall time: 18.8 s\n"
     ]
    }
   ],
   "source": [
    "%%time\n",
    "prompt = \"\"\"I'm going to give you the contents of a pdf of a bank statement. The text containes transaction records along with other things.\n",
    "you job is to parse each transaction record and return the details like date, description, amount and type. The type column should contain either \n",
    "'credit' or 'debit'. Return these information in a tabular format. Do not return anything else just the table\"\"\"\n",
    "\n",
    "docs = [{\"role\": \"system\", \"content\": prompt + '\\n' + text}]\n",
    "response = client.chat.completions.create(\n",
    "                model=\"gpt-4\",\n",
    "                messages=docs\n",
    "            )\n",
    "\n",
    "resp = response.choices[0].message.content"
   ]
  },
  {
   "cell_type": "code",
   "execution_count": 114,
   "id": "d2577d81-1d0c-4fce-8c2b-9e1f4c41731e",
   "metadata": {},
   "outputs": [
    {
     "name": "stdout",
     "output_type": "stream",
     "text": [
      "| Date       | Description                   | Amount    | Type   |\n",
      "|------------|-------------------------------|-----------|--------|\n",
      "| 07/02      | Deposit                       | $17,120.00  | Credit |\n",
      "| 07/09      | Deposit                       | $24,610.00  | Credit |\n",
      "| 07/14      | Deposit                       | $11,424.00  | Credit |\n",
      "| 07/15      | Deposit                       | $1,349.00   | Credit |\n",
      "| 07/21      | Deposit                       | $5,000.00   | Credit |\n",
      "| 07/21      | Deposit                       | $3,120.00   | Credit |\n",
      "| 07/23      | Deposit                       | $33,138.00  | Credit |\n",
      "| 07/28      | Deposit                       | $18,114.00  | Credit |\n",
      "| 07/30      | Deposit                       | $6,908.63   | Credit |\n",
      "| 07/30      | Deposit                       | $5,100.00   | Credit |\n",
      "| 07/14      | Check Paid                    | $1,471.99   | Debit  |\n",
      "| 07/08      | Check Paid                    | $1,697.05   | Debit  |\n",
      "| 07/11      | Online Payment To Vendor    | $8,928.00   | Debit  |\n",
      "| 07/11      | Online Payment To Vendor    | $2,960.00   | Debit  |\n",
      "| 07/25      | Online Payment To Vendor    | $250.00     | Debit  |\n",
      "| 07/30      | ADP TX/Fincl Svc ADP         | $2,887.68   | Debit  |\n"
     ]
    }
   ],
   "source": [
    "print(resp)"
   ]
  },
  {
   "cell_type": "code",
   "execution_count": 115,
   "id": "c2b90a3f-c233-4102-9d8c-f0c7c59253fe",
   "metadata": {},
   "outputs": [
    {
     "name": "stdout",
     "output_type": "stream",
     "text": [
      "[['Date', 'Description', 'Amount', 'Type'], ['07/02', 'Deposit', '$17,120.00', 'Credit'], ['07/09', 'Deposit', '$24,610.00', 'Credit'], ['07/14', 'Deposit', '$11,424.00', 'Credit'], ['07/15', 'Deposit', '$1,349.00', 'Credit'], ['07/21', 'Deposit', '$5,000.00', 'Credit'], ['07/21', 'Deposit', '$3,120.00', 'Credit'], ['07/23', 'Deposit', '$33,138.00', 'Credit'], ['07/28', 'Deposit', '$18,114.00', 'Credit'], ['07/30', 'Deposit', '$6,908.63', 'Credit'], ['07/30', 'Deposit', '$5,100.00', 'Credit'], ['07/14', 'Check Paid', '$1,471.99', 'Debit'], ['07/08', 'Check Paid', '$1,697.05', 'Debit'], ['07/11', 'Online Payment To Vendor', '$8,928.00', 'Debit'], ['07/11', 'Online Payment To Vendor', '$2,960.00', 'Debit'], ['07/25', 'Online Payment To Vendor', '$250.00', 'Debit'], ['07/30', 'ADP TX/Fincl Svc ADP', '$2,887.68', 'Debit']]\n"
     ]
    }
   ],
   "source": [
    "def parse_response_table(resp):\n",
    "    lines = resp.strip().split(\"\\n\")\n",
    "    table = [line.split('|') for line in lines]\n",
    "    final_table = []\n",
    "    for line in table:\n",
    "        new_line = []\n",
    "        for ele in line:\n",
    "            ele = ele.replace('-','')\n",
    "            if ele :\n",
    "               new_line.append(ele.strip())\n",
    "        if not new_line:\n",
    "            continue\n",
    "        final_table.append(new_line)\n",
    "    print(final_table)\n",
    "    df = pd.DataFrame(final_table[1:],columns=final_table[0])\n",
    "    return df\n",
    "df = parse_response_table(resp)"
   ]
  },
  {
   "cell_type": "code",
   "execution_count": 116,
   "id": "c66a7261-e1ed-4123-954d-17fa388d4c59",
   "metadata": {},
   "outputs": [
    {
     "data": {
      "text/html": [
       "<div>\n",
       "<style scoped>\n",
       "    .dataframe tbody tr th:only-of-type {\n",
       "        vertical-align: middle;\n",
       "    }\n",
       "\n",
       "    .dataframe tbody tr th {\n",
       "        vertical-align: top;\n",
       "    }\n",
       "\n",
       "    .dataframe thead th {\n",
       "        text-align: right;\n",
       "    }\n",
       "</style>\n",
       "<table border=\"1\" class=\"dataframe\">\n",
       "  <thead>\n",
       "    <tr style=\"text-align: right;\">\n",
       "      <th></th>\n",
       "      <th>Date</th>\n",
       "      <th>Description</th>\n",
       "      <th>Amount</th>\n",
       "      <th>Type</th>\n",
       "    </tr>\n",
       "  </thead>\n",
       "  <tbody>\n",
       "    <tr>\n",
       "      <th>0</th>\n",
       "      <td>07/02</td>\n",
       "      <td>Deposit</td>\n",
       "      <td>$17,120.00</td>\n",
       "      <td>Credit</td>\n",
       "    </tr>\n",
       "    <tr>\n",
       "      <th>1</th>\n",
       "      <td>07/09</td>\n",
       "      <td>Deposit</td>\n",
       "      <td>$24,610.00</td>\n",
       "      <td>Credit</td>\n",
       "    </tr>\n",
       "    <tr>\n",
       "      <th>2</th>\n",
       "      <td>07/14</td>\n",
       "      <td>Deposit</td>\n",
       "      <td>$11,424.00</td>\n",
       "      <td>Credit</td>\n",
       "    </tr>\n",
       "    <tr>\n",
       "      <th>3</th>\n",
       "      <td>07/15</td>\n",
       "      <td>Deposit</td>\n",
       "      <td>$1,349.00</td>\n",
       "      <td>Credit</td>\n",
       "    </tr>\n",
       "    <tr>\n",
       "      <th>4</th>\n",
       "      <td>07/21</td>\n",
       "      <td>Deposit</td>\n",
       "      <td>$5,000.00</td>\n",
       "      <td>Credit</td>\n",
       "    </tr>\n",
       "    <tr>\n",
       "      <th>5</th>\n",
       "      <td>07/21</td>\n",
       "      <td>Deposit</td>\n",
       "      <td>$3,120.00</td>\n",
       "      <td>Credit</td>\n",
       "    </tr>\n",
       "    <tr>\n",
       "      <th>6</th>\n",
       "      <td>07/23</td>\n",
       "      <td>Deposit</td>\n",
       "      <td>$33,138.00</td>\n",
       "      <td>Credit</td>\n",
       "    </tr>\n",
       "    <tr>\n",
       "      <th>7</th>\n",
       "      <td>07/28</td>\n",
       "      <td>Deposit</td>\n",
       "      <td>$18,114.00</td>\n",
       "      <td>Credit</td>\n",
       "    </tr>\n",
       "    <tr>\n",
       "      <th>8</th>\n",
       "      <td>07/30</td>\n",
       "      <td>Deposit</td>\n",
       "      <td>$6,908.63</td>\n",
       "      <td>Credit</td>\n",
       "    </tr>\n",
       "    <tr>\n",
       "      <th>9</th>\n",
       "      <td>07/30</td>\n",
       "      <td>Deposit</td>\n",
       "      <td>$5,100.00</td>\n",
       "      <td>Credit</td>\n",
       "    </tr>\n",
       "    <tr>\n",
       "      <th>10</th>\n",
       "      <td>07/14</td>\n",
       "      <td>Check Paid</td>\n",
       "      <td>$1,471.99</td>\n",
       "      <td>Debit</td>\n",
       "    </tr>\n",
       "    <tr>\n",
       "      <th>11</th>\n",
       "      <td>07/08</td>\n",
       "      <td>Check Paid</td>\n",
       "      <td>$1,697.05</td>\n",
       "      <td>Debit</td>\n",
       "    </tr>\n",
       "    <tr>\n",
       "      <th>12</th>\n",
       "      <td>07/11</td>\n",
       "      <td>Online Payment To Vendor</td>\n",
       "      <td>$8,928.00</td>\n",
       "      <td>Debit</td>\n",
       "    </tr>\n",
       "    <tr>\n",
       "      <th>13</th>\n",
       "      <td>07/11</td>\n",
       "      <td>Online Payment To Vendor</td>\n",
       "      <td>$2,960.00</td>\n",
       "      <td>Debit</td>\n",
       "    </tr>\n",
       "    <tr>\n",
       "      <th>14</th>\n",
       "      <td>07/25</td>\n",
       "      <td>Online Payment To Vendor</td>\n",
       "      <td>$250.00</td>\n",
       "      <td>Debit</td>\n",
       "    </tr>\n",
       "    <tr>\n",
       "      <th>15</th>\n",
       "      <td>07/30</td>\n",
       "      <td>ADP TX/Fincl Svc ADP</td>\n",
       "      <td>$2,887.68</td>\n",
       "      <td>Debit</td>\n",
       "    </tr>\n",
       "  </tbody>\n",
       "</table>\n",
       "</div>"
      ],
      "text/plain": [
       "     Date               Description      Amount    Type\n",
       "0   07/02                   Deposit  $17,120.00  Credit\n",
       "1   07/09                   Deposit  $24,610.00  Credit\n",
       "2   07/14                   Deposit  $11,424.00  Credit\n",
       "3   07/15                   Deposit   $1,349.00  Credit\n",
       "4   07/21                   Deposit   $5,000.00  Credit\n",
       "5   07/21                   Deposit   $3,120.00  Credit\n",
       "6   07/23                   Deposit  $33,138.00  Credit\n",
       "7   07/28                   Deposit  $18,114.00  Credit\n",
       "8   07/30                   Deposit   $6,908.63  Credit\n",
       "9   07/30                   Deposit   $5,100.00  Credit\n",
       "10  07/14                Check Paid   $1,471.99   Debit\n",
       "11  07/08                Check Paid   $1,697.05   Debit\n",
       "12  07/11  Online Payment To Vendor   $8,928.00   Debit\n",
       "13  07/11  Online Payment To Vendor   $2,960.00   Debit\n",
       "14  07/25  Online Payment To Vendor     $250.00   Debit\n",
       "15  07/30      ADP TX/Fincl Svc ADP   $2,887.68   Debit"
      ]
     },
     "execution_count": 116,
     "metadata": {},
     "output_type": "execute_result"
    }
   ],
   "source": [
    "df"
   ]
  },
  {
   "cell_type": "code",
   "execution_count": null,
   "id": "0121953b-3f4b-4f04-adeb-65d9b2da0f05",
   "metadata": {},
   "outputs": [],
   "source": []
  }
 ],
 "metadata": {
  "kernelspec": {
   "display_name": "Python 3 (ipykernel)",
   "language": "python",
   "name": "python3"
  },
  "language_info": {
   "codemirror_mode": {
    "name": "ipython",
    "version": 3
   },
   "file_extension": ".py",
   "mimetype": "text/x-python",
   "name": "python",
   "nbconvert_exporter": "python",
   "pygments_lexer": "ipython3",
   "version": "3.10.14"
  }
 },
 "nbformat": 4,
 "nbformat_minor": 5
}
