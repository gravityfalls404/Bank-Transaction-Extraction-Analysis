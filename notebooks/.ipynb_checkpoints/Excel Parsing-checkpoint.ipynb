{
 "cells": [
  {
   "cell_type": "code",
   "execution_count": 118,
   "id": "00000b61-5c40-48d4-a26d-53165f8c43b9",
   "metadata": {},
   "outputs": [],
   "source": [
    "import pandas as pd\n",
    "import openpyxl\n",
    "PATH_TO_EXCEL = \"/Users/prashantgaurav/Projects/KaajAi/receipts/Bank-Statement-Template-4-TemplateLab.xlsx\"\n",
    "\n"
   ]
  },
  {
   "cell_type": "raw",
   "id": "d343ca35-14f2-4a25-80b2-7a75cea5e70d",
   "metadata": {},
   "source": [
    "import openpyxl\n",
    "from openpyxl_image_loader import SheetImageLoader\n",
    "\n",
    "pxl_doc = openpyxl.load_workbook(PATH_TO_EXCEL)\n",
    "sheet = pxl_doc[pxl_doc.sheetnames[0]]\n",
    "\n",
    "#calling the image_loader\n",
    "image_loader = SheetImageLoader(sheet)\n",
    "\n",
    "cell_images = {}\n",
    "\n",
    "# Iterate over all cells in the sheet\n",
    "for row in sheet.iter_rows():\n",
    "    for cell in row:\n",
    "        if image_loader.image_in(cell.coordinate):\n",
    "            image = image_loader.get(cell.coordinate)\n",
    "            cell_images[cell.coordinate] = image\n",
    "\n",
    "# Print the coordinates of cells with images and display the images\n",
    "for cell_coord, image in cell_images.items():\n",
    "    print(f\"Image found in cell: {cell_coord}\")\n",
    "    image.show()  # This will display the image using the default image viewer"
   ]
  },
  {
   "cell_type": "code",
   "execution_count": 119,
   "id": "03d24e72-bb6c-45ef-b28e-5fc078be4036",
   "metadata": {},
   "outputs": [
    {
     "ename": "FileNotFoundError",
     "evalue": "[Errno 2] No such file or directory: '/Users/prashantgaurav/Projects/KaajAi/receipts/bank-statement-template-20.xlsx'",
     "output_type": "error",
     "traceback": [
      "\u001b[0;31m---------------------------------------------------------------------------\u001b[0m",
      "\u001b[0;31mFileNotFoundError\u001b[0m                         Traceback (most recent call last)",
      "Cell \u001b[0;32mIn[119], line 1\u001b[0m\n\u001b[0;32m----> 1\u001b[0m file \u001b[38;5;241m=\u001b[39m \u001b[43mpd\u001b[49m\u001b[38;5;241;43m.\u001b[39;49m\u001b[43mread_excel\u001b[49m\u001b[43m(\u001b[49m\u001b[43mPATH_TO_EXCEL\u001b[49m\u001b[43m)\u001b[49m\u001b[38;5;241m.\u001b[39mfillna(\u001b[38;5;124m'\u001b[39m\u001b[38;5;124m'\u001b[39m)\u001b[38;5;241m.\u001b[39mto_string(index\u001b[38;5;241m=\u001b[39m\u001b[38;5;28;01mFalse\u001b[39;00m)\n",
      "File \u001b[0;32m~/anaconda3/envs/kaaj/lib/python3.10/site-packages/pandas/io/excel/_base.py:495\u001b[0m, in \u001b[0;36mread_excel\u001b[0;34m(io, sheet_name, header, names, index_col, usecols, dtype, engine, converters, true_values, false_values, skiprows, nrows, na_values, keep_default_na, na_filter, verbose, parse_dates, date_parser, date_format, thousands, decimal, comment, skipfooter, storage_options, dtype_backend, engine_kwargs)\u001b[0m\n\u001b[1;32m    493\u001b[0m \u001b[38;5;28;01mif\u001b[39;00m \u001b[38;5;129;01mnot\u001b[39;00m \u001b[38;5;28misinstance\u001b[39m(io, ExcelFile):\n\u001b[1;32m    494\u001b[0m     should_close \u001b[38;5;241m=\u001b[39m \u001b[38;5;28;01mTrue\u001b[39;00m\n\u001b[0;32m--> 495\u001b[0m     io \u001b[38;5;241m=\u001b[39m \u001b[43mExcelFile\u001b[49m\u001b[43m(\u001b[49m\n\u001b[1;32m    496\u001b[0m \u001b[43m        \u001b[49m\u001b[43mio\u001b[49m\u001b[43m,\u001b[49m\n\u001b[1;32m    497\u001b[0m \u001b[43m        \u001b[49m\u001b[43mstorage_options\u001b[49m\u001b[38;5;241;43m=\u001b[39;49m\u001b[43mstorage_options\u001b[49m\u001b[43m,\u001b[49m\n\u001b[1;32m    498\u001b[0m \u001b[43m        \u001b[49m\u001b[43mengine\u001b[49m\u001b[38;5;241;43m=\u001b[39;49m\u001b[43mengine\u001b[49m\u001b[43m,\u001b[49m\n\u001b[1;32m    499\u001b[0m \u001b[43m        \u001b[49m\u001b[43mengine_kwargs\u001b[49m\u001b[38;5;241;43m=\u001b[39;49m\u001b[43mengine_kwargs\u001b[49m\u001b[43m,\u001b[49m\n\u001b[1;32m    500\u001b[0m \u001b[43m    \u001b[49m\u001b[43m)\u001b[49m\n\u001b[1;32m    501\u001b[0m \u001b[38;5;28;01melif\u001b[39;00m engine \u001b[38;5;129;01mand\u001b[39;00m engine \u001b[38;5;241m!=\u001b[39m io\u001b[38;5;241m.\u001b[39mengine:\n\u001b[1;32m    502\u001b[0m     \u001b[38;5;28;01mraise\u001b[39;00m \u001b[38;5;167;01mValueError\u001b[39;00m(\n\u001b[1;32m    503\u001b[0m         \u001b[38;5;124m\"\u001b[39m\u001b[38;5;124mEngine should not be specified when passing \u001b[39m\u001b[38;5;124m\"\u001b[39m\n\u001b[1;32m    504\u001b[0m         \u001b[38;5;124m\"\u001b[39m\u001b[38;5;124man ExcelFile - ExcelFile already has the engine set\u001b[39m\u001b[38;5;124m\"\u001b[39m\n\u001b[1;32m    505\u001b[0m     )\n",
      "File \u001b[0;32m~/anaconda3/envs/kaaj/lib/python3.10/site-packages/pandas/io/excel/_base.py:1550\u001b[0m, in \u001b[0;36mExcelFile.__init__\u001b[0;34m(self, path_or_buffer, engine, storage_options, engine_kwargs)\u001b[0m\n\u001b[1;32m   1548\u001b[0m     ext \u001b[38;5;241m=\u001b[39m \u001b[38;5;124m\"\u001b[39m\u001b[38;5;124mxls\u001b[39m\u001b[38;5;124m\"\u001b[39m\n\u001b[1;32m   1549\u001b[0m \u001b[38;5;28;01melse\u001b[39;00m:\n\u001b[0;32m-> 1550\u001b[0m     ext \u001b[38;5;241m=\u001b[39m \u001b[43minspect_excel_format\u001b[49m\u001b[43m(\u001b[49m\n\u001b[1;32m   1551\u001b[0m \u001b[43m        \u001b[49m\u001b[43mcontent_or_path\u001b[49m\u001b[38;5;241;43m=\u001b[39;49m\u001b[43mpath_or_buffer\u001b[49m\u001b[43m,\u001b[49m\u001b[43m \u001b[49m\u001b[43mstorage_options\u001b[49m\u001b[38;5;241;43m=\u001b[39;49m\u001b[43mstorage_options\u001b[49m\n\u001b[1;32m   1552\u001b[0m \u001b[43m    \u001b[49m\u001b[43m)\u001b[49m\n\u001b[1;32m   1553\u001b[0m     \u001b[38;5;28;01mif\u001b[39;00m ext \u001b[38;5;129;01mis\u001b[39;00m \u001b[38;5;28;01mNone\u001b[39;00m:\n\u001b[1;32m   1554\u001b[0m         \u001b[38;5;28;01mraise\u001b[39;00m \u001b[38;5;167;01mValueError\u001b[39;00m(\n\u001b[1;32m   1555\u001b[0m             \u001b[38;5;124m\"\u001b[39m\u001b[38;5;124mExcel file format cannot be determined, you must specify \u001b[39m\u001b[38;5;124m\"\u001b[39m\n\u001b[1;32m   1556\u001b[0m             \u001b[38;5;124m\"\u001b[39m\u001b[38;5;124man engine manually.\u001b[39m\u001b[38;5;124m\"\u001b[39m\n\u001b[1;32m   1557\u001b[0m         )\n",
      "File \u001b[0;32m~/anaconda3/envs/kaaj/lib/python3.10/site-packages/pandas/io/excel/_base.py:1402\u001b[0m, in \u001b[0;36minspect_excel_format\u001b[0;34m(content_or_path, storage_options)\u001b[0m\n\u001b[1;32m   1399\u001b[0m \u001b[38;5;28;01mif\u001b[39;00m \u001b[38;5;28misinstance\u001b[39m(content_or_path, \u001b[38;5;28mbytes\u001b[39m):\n\u001b[1;32m   1400\u001b[0m     content_or_path \u001b[38;5;241m=\u001b[39m BytesIO(content_or_path)\n\u001b[0;32m-> 1402\u001b[0m \u001b[38;5;28;01mwith\u001b[39;00m \u001b[43mget_handle\u001b[49m\u001b[43m(\u001b[49m\n\u001b[1;32m   1403\u001b[0m \u001b[43m    \u001b[49m\u001b[43mcontent_or_path\u001b[49m\u001b[43m,\u001b[49m\u001b[43m \u001b[49m\u001b[38;5;124;43m\"\u001b[39;49m\u001b[38;5;124;43mrb\u001b[39;49m\u001b[38;5;124;43m\"\u001b[39;49m\u001b[43m,\u001b[49m\u001b[43m \u001b[49m\u001b[43mstorage_options\u001b[49m\u001b[38;5;241;43m=\u001b[39;49m\u001b[43mstorage_options\u001b[49m\u001b[43m,\u001b[49m\u001b[43m \u001b[49m\u001b[43mis_text\u001b[49m\u001b[38;5;241;43m=\u001b[39;49m\u001b[38;5;28;43;01mFalse\u001b[39;49;00m\n\u001b[1;32m   1404\u001b[0m \u001b[43m\u001b[49m\u001b[43m)\u001b[49m \u001b[38;5;28;01mas\u001b[39;00m handle:\n\u001b[1;32m   1405\u001b[0m     stream \u001b[38;5;241m=\u001b[39m handle\u001b[38;5;241m.\u001b[39mhandle\n\u001b[1;32m   1406\u001b[0m     stream\u001b[38;5;241m.\u001b[39mseek(\u001b[38;5;241m0\u001b[39m)\n",
      "File \u001b[0;32m~/anaconda3/envs/kaaj/lib/python3.10/site-packages/pandas/io/common.py:882\u001b[0m, in \u001b[0;36mget_handle\u001b[0;34m(path_or_buf, mode, encoding, compression, memory_map, is_text, errors, storage_options)\u001b[0m\n\u001b[1;32m    873\u001b[0m         handle \u001b[38;5;241m=\u001b[39m \u001b[38;5;28mopen\u001b[39m(\n\u001b[1;32m    874\u001b[0m             handle,\n\u001b[1;32m    875\u001b[0m             ioargs\u001b[38;5;241m.\u001b[39mmode,\n\u001b[0;32m   (...)\u001b[0m\n\u001b[1;32m    878\u001b[0m             newline\u001b[38;5;241m=\u001b[39m\u001b[38;5;124m\"\u001b[39m\u001b[38;5;124m\"\u001b[39m,\n\u001b[1;32m    879\u001b[0m         )\n\u001b[1;32m    880\u001b[0m     \u001b[38;5;28;01melse\u001b[39;00m:\n\u001b[1;32m    881\u001b[0m         \u001b[38;5;66;03m# Binary mode\u001b[39;00m\n\u001b[0;32m--> 882\u001b[0m         handle \u001b[38;5;241m=\u001b[39m \u001b[38;5;28;43mopen\u001b[39;49m\u001b[43m(\u001b[49m\u001b[43mhandle\u001b[49m\u001b[43m,\u001b[49m\u001b[43m \u001b[49m\u001b[43mioargs\u001b[49m\u001b[38;5;241;43m.\u001b[39;49m\u001b[43mmode\u001b[49m\u001b[43m)\u001b[49m\n\u001b[1;32m    883\u001b[0m     handles\u001b[38;5;241m.\u001b[39mappend(handle)\n\u001b[1;32m    885\u001b[0m \u001b[38;5;66;03m# Convert BytesIO or file objects passed with an encoding\u001b[39;00m\n",
      "\u001b[0;31mFileNotFoundError\u001b[0m: [Errno 2] No such file or directory: '/Users/prashantgaurav/Projects/KaajAi/receipts/bank-statement-template-20.xlsx'"
     ]
    }
   ],
   "source": [
    "file = pd.read_excel(PATH_TO_EXCEL).fillna('').to_string(index=False)"
   ]
  },
  {
   "cell_type": "code",
   "execution_count": 104,
   "id": "94760c0f-a028-4b1b-b081-7012cc8428ac",
   "metadata": {},
   "outputs": [
    {
     "data": {
      "text/plain": [
       "'                 Unnamed: 0                 Unnamed: 1                    Unnamed: 2             Unnamed: 3           Unnamed: 4                     Unnamed: 5           Unnamed: 6  Unnamed: 7\\n                                                                                                            Statement of Account                                                                \\n                                                                                                                                                                                                \\n                                                                                                                                                                                                \\n                                                                                                                                                                                                \\n                                                                                                                                                                                                \\n                                                                                                                Customer Number:                                    23785-54-9674458            \\n                 John Smith                                                                                                                        Branch Name:                      Brownsville\\n   2450 Courage St, STE 108                                                                                      Statement Date:                                          04/30/2024            \\n      Brownsville, TX 78521                                                                                    Payment Due Date:                                          05/15/2024            \\n                                                                                                                   Credit Limit:                                              390000            \\n                                                                                                               Total Amount Due:                                             3898.57            \\n                                                                                                                                                                                                \\n                    SUMMARY                                                                                                                                                                     \\n                  Card Type           Previous Balance Payment / Credits and Rebates Purchases and Advances      Installment Due Finance Charges and Other Fees Late Payment Charges  Amount Due\\n                  Visa Gold                    7126.14                       7126.14                3898.57                    0                              0                    0     3898.57\\n            Past Due Amount                                                                                                                                                                    0\\nUnbilled Installment Amount                                                                                                                                                                    0\\n                                                                                                                                                                 Unbilld Loan Amount           0\\n  Total Outstanding Balance                                                                                                                                                              3898.57\\n                                                                                                                                                                                                \\n                TRANSACTION                                                                                                                                                                     \\n                       Date                Description                                                                                                                                    Amount\\n                 04/28/2024        Petron - C5 Station                                                                                                                                    223.26\\n                 04/27/2024            South Star Drug                                                                                                                                    313.39\\n                 04/27/2024        Rosewood Condominum                                                                                                                                    582.96\\n                 04/26/2024                       Grab                                                                                                                                       125\\n                 04/22/2024                     Amazon                                                                                                                                       215\\n                 04/17/2024         Alba International                                                                                                                                    656.86\\n        2024-12-04 00:00:00                Adobe Sales                                                                                                                                       246\\n        2024-07-04 00:00:00    St. Luke Medical Center                                                                                                                                     571.1\\n        2024-04-04 00:00:00 Hotel Sheraton (Las Vegas)                                                                                                                                       965\\n                                                                                                                                                                                                \\n                                                                                                                                                                                                \\n                                                                                                                                                                                                \\n                                                                                                                                                                                                \\n                                                                                                                                                                                                \\n                                                                                                                                                                                                \\n                                                                                                                                                                                                \\n                                                                                                                                                                                                \\n                                                                                                                                                                                                \\n                                                                                                                                                                                                \\n                                                                                                                                                                                                \\n                   REMINDER                                                                                                                                                                     '"
      ]
     },
     "execution_count": 104,
     "metadata": {},
     "output_type": "execute_result"
    }
   ],
   "source": [
    "file"
   ]
  },
  {
   "cell_type": "code",
   "execution_count": 111,
   "id": "d5b2edc0-72fe-4aa4-af8f-a46251b926a0",
   "metadata": {},
   "outputs": [],
   "source": [
    "import openai\n",
    "import os\n",
    "client = openai.Client(api_key=os.environ.get(\"OPENAI_API_KEY\"))\n",
    "\n",
    "prompt = \"\"\"I'm going to give you the contents of a pdf of a bank statement. The text containes transaction records along with other things.\n",
    "you job is to parse each transaction record and return the details like date, description, amount and type. The type column should contain either \n",
    "'credit' or 'debit'. Return these information in a tabular format. Do not return anything else just the table\"\"\"\n",
    "\n",
    "docs = [{\"role\": \"system\", \"content\": prompt + '\\n' + file}]\n",
    "response = client.chat.completions.create(\n",
    "                model=\"gpt-4\",\n",
    "                messages=docs\n",
    "            )"
   ]
  },
  {
   "cell_type": "code",
   "execution_count": 112,
   "id": "f0915792-7336-40ac-9ff2-0c94365b194b",
   "metadata": {},
   "outputs": [],
   "source": [
    "resp = response.choices[0].message.content"
   ]
  },
  {
   "cell_type": "code",
   "execution_count": 113,
   "id": "70064281-e2a7-4179-af0c-81d214d98d82",
   "metadata": {},
   "outputs": [
    {
     "name": "stdout",
     "output_type": "stream",
     "text": [
      "| Date       | Description           | Amount | Type  |\n",
      "|------------|-----------------------|--------|-------|\n",
      "| 04/28/2024 | Petron - C5 Station   | 223.26 | Debit |\n",
      "| 04/27/2024 | South Star Drug       | 313.39 | Debit |\n",
      "| 04/27/2024 | Rosewood Condominum   | 582.96 | Debit |\n",
      "| 04/26/2024 | Grab                  | 125    | Debit |\n",
      "| 04/22/2024 | Amazon                | 215    | Debit |\n",
      "| 04/17/2024 | Alba International    | 656.86 | Debit |\n",
      "| 12/04/2024 | Adobe Sales           | 246    | Debit |\n",
      "| 07/04/2024 | St. Luke Medical Center | 571.1  | Debit |\n",
      "| 04/04/2024 | Hotel Sheraton (Las Vegas) | 965 | Debit |\n"
     ]
    }
   ],
   "source": [
    "print(resp)"
   ]
  },
  {
   "cell_type": "code",
   "execution_count": 114,
   "id": "98fc1404-662f-415a-a117-928ed946ac92",
   "metadata": {},
   "outputs": [],
   "source": [
    "def parse_response_table(table):\n",
    "    lines = resp.strip().split(\"\\n\")\n",
    "    table = [line.split('|') for line in lines]\n",
    "    final_table = []\n",
    "    for line in table:\n",
    "        new_line = []\n",
    "        for ele in line:\n",
    "            ele = ele.replace('-','')\n",
    "            if ele :\n",
    "               new_line.append(ele.strip())\n",
    "        if not new_line:\n",
    "            continue\n",
    "        final_table.append(new_line)\n",
    "    return final_table\n",
    "x = parse_response_table(table)"
   ]
  },
  {
   "cell_type": "code",
   "execution_count": 115,
   "id": "6ea28d6a-05d6-4f31-a51f-d16534fc0525",
   "metadata": {
    "scrolled": true
   },
   "outputs": [
    {
     "data": {
      "text/plain": [
       "[['Date', 'Description', 'Amount', 'Type'],\n",
       " ['04/28/2024', 'Petron  C5 Station', '223.26', 'Debit'],\n",
       " ['04/27/2024', 'South Star Drug', '313.39', 'Debit'],\n",
       " ['04/27/2024', 'Rosewood Condominum', '582.96', 'Debit'],\n",
       " ['04/26/2024', 'Grab', '125', 'Debit'],\n",
       " ['04/22/2024', 'Amazon', '215', 'Debit'],\n",
       " ['04/17/2024', 'Alba International', '656.86', 'Debit'],\n",
       " ['12/04/2024', 'Adobe Sales', '246', 'Debit'],\n",
       " ['07/04/2024', 'St. Luke Medical Center', '571.1', 'Debit'],\n",
       " ['04/04/2024', 'Hotel Sheraton (Las Vegas)', '965', 'Debit']]"
      ]
     },
     "execution_count": 115,
     "metadata": {},
     "output_type": "execute_result"
    }
   ],
   "source": [
    "x"
   ]
  },
  {
   "cell_type": "code",
   "execution_count": 116,
   "id": "4220ac72-aec9-42de-ad1b-569471ee0912",
   "metadata": {},
   "outputs": [],
   "source": [
    "df = pd.DataFrame(x[1:],columns=x[0])"
   ]
  },
  {
   "cell_type": "code",
   "execution_count": 117,
   "id": "c6776353-3e9b-4357-8c66-1f5192dcf485",
   "metadata": {},
   "outputs": [
    {
     "data": {
      "text/html": [
       "<div>\n",
       "<style scoped>\n",
       "    .dataframe tbody tr th:only-of-type {\n",
       "        vertical-align: middle;\n",
       "    }\n",
       "\n",
       "    .dataframe tbody tr th {\n",
       "        vertical-align: top;\n",
       "    }\n",
       "\n",
       "    .dataframe thead th {\n",
       "        text-align: right;\n",
       "    }\n",
       "</style>\n",
       "<table border=\"1\" class=\"dataframe\">\n",
       "  <thead>\n",
       "    <tr style=\"text-align: right;\">\n",
       "      <th></th>\n",
       "      <th>Date</th>\n",
       "      <th>Description</th>\n",
       "      <th>Amount</th>\n",
       "      <th>Type</th>\n",
       "    </tr>\n",
       "  </thead>\n",
       "  <tbody>\n",
       "    <tr>\n",
       "      <th>0</th>\n",
       "      <td>04/28/2024</td>\n",
       "      <td>Petron  C5 Station</td>\n",
       "      <td>223.26</td>\n",
       "      <td>Debit</td>\n",
       "    </tr>\n",
       "    <tr>\n",
       "      <th>1</th>\n",
       "      <td>04/27/2024</td>\n",
       "      <td>South Star Drug</td>\n",
       "      <td>313.39</td>\n",
       "      <td>Debit</td>\n",
       "    </tr>\n",
       "    <tr>\n",
       "      <th>2</th>\n",
       "      <td>04/27/2024</td>\n",
       "      <td>Rosewood Condominum</td>\n",
       "      <td>582.96</td>\n",
       "      <td>Debit</td>\n",
       "    </tr>\n",
       "    <tr>\n",
       "      <th>3</th>\n",
       "      <td>04/26/2024</td>\n",
       "      <td>Grab</td>\n",
       "      <td>125</td>\n",
       "      <td>Debit</td>\n",
       "    </tr>\n",
       "    <tr>\n",
       "      <th>4</th>\n",
       "      <td>04/22/2024</td>\n",
       "      <td>Amazon</td>\n",
       "      <td>215</td>\n",
       "      <td>Debit</td>\n",
       "    </tr>\n",
       "    <tr>\n",
       "      <th>5</th>\n",
       "      <td>04/17/2024</td>\n",
       "      <td>Alba International</td>\n",
       "      <td>656.86</td>\n",
       "      <td>Debit</td>\n",
       "    </tr>\n",
       "    <tr>\n",
       "      <th>6</th>\n",
       "      <td>12/04/2024</td>\n",
       "      <td>Adobe Sales</td>\n",
       "      <td>246</td>\n",
       "      <td>Debit</td>\n",
       "    </tr>\n",
       "    <tr>\n",
       "      <th>7</th>\n",
       "      <td>07/04/2024</td>\n",
       "      <td>St. Luke Medical Center</td>\n",
       "      <td>571.1</td>\n",
       "      <td>Debit</td>\n",
       "    </tr>\n",
       "    <tr>\n",
       "      <th>8</th>\n",
       "      <td>04/04/2024</td>\n",
       "      <td>Hotel Sheraton (Las Vegas)</td>\n",
       "      <td>965</td>\n",
       "      <td>Debit</td>\n",
       "    </tr>\n",
       "  </tbody>\n",
       "</table>\n",
       "</div>"
      ],
      "text/plain": [
       "         Date                 Description  Amount   Type\n",
       "0  04/28/2024          Petron  C5 Station  223.26  Debit\n",
       "1  04/27/2024             South Star Drug  313.39  Debit\n",
       "2  04/27/2024         Rosewood Condominum  582.96  Debit\n",
       "3  04/26/2024                        Grab     125  Debit\n",
       "4  04/22/2024                      Amazon     215  Debit\n",
       "5  04/17/2024          Alba International  656.86  Debit\n",
       "6  12/04/2024                 Adobe Sales     246  Debit\n",
       "7  07/04/2024     St. Luke Medical Center   571.1  Debit\n",
       "8  04/04/2024  Hotel Sheraton (Las Vegas)     965  Debit"
      ]
     },
     "execution_count": 117,
     "metadata": {},
     "output_type": "execute_result"
    }
   ],
   "source": [
    "df"
   ]
  },
  {
   "cell_type": "code",
   "execution_count": null,
   "id": "fb6ea74b-1a43-4a20-9a63-d96144f115ec",
   "metadata": {},
   "outputs": [],
   "source": []
  },
  {
   "cell_type": "code",
   "execution_count": null,
   "id": "39ea0543-bed6-4b19-8053-e2f0711fa1e6",
   "metadata": {},
   "outputs": [],
   "source": []
  }
 ],
 "metadata": {
  "kernelspec": {
   "display_name": "Python 3 (ipykernel)",
   "language": "python",
   "name": "python3"
  },
  "language_info": {
   "codemirror_mode": {
    "name": "ipython",
    "version": 3
   },
   "file_extension": ".py",
   "mimetype": "text/x-python",
   "name": "python",
   "nbconvert_exporter": "python",
   "pygments_lexer": "ipython3",
   "version": "3.10.14"
  }
 },
 "nbformat": 4,
 "nbformat_minor": 5
}
