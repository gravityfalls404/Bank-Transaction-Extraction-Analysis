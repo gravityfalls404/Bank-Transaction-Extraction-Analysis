{
 "cells": [
  {
   "cell_type": "markdown",
   "id": "dd4f7400-8c77-4fae-9839-c58792dbe635",
   "metadata": {},
   "source": [
    "### Experiement with how to reduct the docuemnt to be parsed. Number of tokens is too hight. Try to experiement with date."
   ]
  },
  {
   "cell_type": "code",
   "execution_count": 138,
   "id": "5d57504e-7c9b-42d0-86ca-89c5030cd48d",
   "metadata": {},
   "outputs": [],
   "source": [
    "import openai\n",
    "import docx\n",
    "import pandas as pd\n",
    "FILE_NAME = \"/Users/prashantgaurav/Projects/KaajAi/receipts/bank-statement-template-20.docx\"\n",
    "\n",
    "def getText(filename):\n",
    "    doc = docx.Document(filename)\n",
    "    fullText = []\n",
    "    for para in doc.paragraphs:\n",
    "        fullText.append(para.text)\n",
    "    return '\\n'.join(fullText)"
   ]
  },
  {
   "cell_type": "code",
   "execution_count": 139,
   "id": "e03634ae-edac-4457-9eab-f33d956549aa",
   "metadata": {},
   "outputs": [
    {
     "ename": "PackageNotFoundError",
     "evalue": "Package not found at '/Users/prashantgaurav/Projects/KaajAi/receipts/bank-statement-template-20 labeling.docx'",
     "output_type": "error",
     "traceback": [
      "\u001b[0;31m---------------------------------------------------------------------------\u001b[0m",
      "\u001b[0;31mPackageNotFoundError\u001b[0m                      Traceback (most recent call last)",
      "Cell \u001b[0;32mIn[139], line 4\u001b[0m\n\u001b[1;32m      2\u001b[0m \u001b[38;5;28;01mimport\u001b[39;00m \u001b[38;5;21;01mos\u001b[39;00m\n\u001b[1;32m      3\u001b[0m client \u001b[38;5;241m=\u001b[39m openai\u001b[38;5;241m.\u001b[39mClient(api_key\u001b[38;5;241m=\u001b[39mos\u001b[38;5;241m.\u001b[39menviron\u001b[38;5;241m.\u001b[39mget(\u001b[38;5;124m\"\u001b[39m\u001b[38;5;124mOPENAI_API_KEY\u001b[39m\u001b[38;5;124m\"\u001b[39m))\n\u001b[0;32m----> 4\u001b[0m text \u001b[38;5;241m=\u001b[39m \u001b[43mgetText\u001b[49m\u001b[43m(\u001b[49m\u001b[43mFILE_NAME\u001b[49m\u001b[43m)\u001b[49m\n",
      "Cell \u001b[0;32mIn[138], line 7\u001b[0m, in \u001b[0;36mgetText\u001b[0;34m(filename)\u001b[0m\n\u001b[1;32m      6\u001b[0m \u001b[38;5;28;01mdef\u001b[39;00m \u001b[38;5;21mgetText\u001b[39m(filename):\n\u001b[0;32m----> 7\u001b[0m     doc \u001b[38;5;241m=\u001b[39m \u001b[43mdocx\u001b[49m\u001b[38;5;241;43m.\u001b[39;49m\u001b[43mDocument\u001b[49m\u001b[43m(\u001b[49m\u001b[43mfilename\u001b[49m\u001b[43m)\u001b[49m\n\u001b[1;32m      8\u001b[0m     fullText \u001b[38;5;241m=\u001b[39m []\n\u001b[1;32m      9\u001b[0m     \u001b[38;5;28;01mfor\u001b[39;00m para \u001b[38;5;129;01min\u001b[39;00m doc\u001b[38;5;241m.\u001b[39mparagraphs:\n",
      "File \u001b[0;32m~/anaconda3/envs/kaaj/lib/python3.10/site-packages/docx/api.py:27\u001b[0m, in \u001b[0;36mDocument\u001b[0;34m(docx)\u001b[0m\n\u001b[1;32m     20\u001b[0m \u001b[38;5;250m\u001b[39m\u001b[38;5;124;03m\"\"\"Return a |Document| object loaded from `docx`, where `docx` can be either a path\u001b[39;00m\n\u001b[1;32m     21\u001b[0m \u001b[38;5;124;03mto a ``.docx`` file (a string) or a file-like object.\u001b[39;00m\n\u001b[1;32m     22\u001b[0m \n\u001b[1;32m     23\u001b[0m \u001b[38;5;124;03mIf `docx` is missing or ``None``, the built-in default document \"template\" is\u001b[39;00m\n\u001b[1;32m     24\u001b[0m \u001b[38;5;124;03mloaded.\u001b[39;00m\n\u001b[1;32m     25\u001b[0m \u001b[38;5;124;03m\"\"\"\u001b[39;00m\n\u001b[1;32m     26\u001b[0m docx \u001b[38;5;241m=\u001b[39m _default_docx_path() \u001b[38;5;28;01mif\u001b[39;00m docx \u001b[38;5;129;01mis\u001b[39;00m \u001b[38;5;28;01mNone\u001b[39;00m \u001b[38;5;28;01melse\u001b[39;00m docx\n\u001b[0;32m---> 27\u001b[0m document_part \u001b[38;5;241m=\u001b[39m cast(\u001b[38;5;124m\"\u001b[39m\u001b[38;5;124mDocumentPart\u001b[39m\u001b[38;5;124m\"\u001b[39m, \u001b[43mPackage\u001b[49m\u001b[38;5;241;43m.\u001b[39;49m\u001b[43mopen\u001b[49m\u001b[43m(\u001b[49m\u001b[43mdocx\u001b[49m\u001b[43m)\u001b[49m\u001b[38;5;241m.\u001b[39mmain_document_part)\n\u001b[1;32m     28\u001b[0m \u001b[38;5;28;01mif\u001b[39;00m document_part\u001b[38;5;241m.\u001b[39mcontent_type \u001b[38;5;241m!=\u001b[39m CT\u001b[38;5;241m.\u001b[39mWML_DOCUMENT_MAIN:\n\u001b[1;32m     29\u001b[0m     tmpl \u001b[38;5;241m=\u001b[39m \u001b[38;5;124m\"\u001b[39m\u001b[38;5;124mfile \u001b[39m\u001b[38;5;124m'\u001b[39m\u001b[38;5;132;01m%s\u001b[39;00m\u001b[38;5;124m'\u001b[39m\u001b[38;5;124m is not a Word file, content type is \u001b[39m\u001b[38;5;124m'\u001b[39m\u001b[38;5;132;01m%s\u001b[39;00m\u001b[38;5;124m'\u001b[39m\u001b[38;5;124m\"\u001b[39m\n",
      "File \u001b[0;32m~/anaconda3/envs/kaaj/lib/python3.10/site-packages/docx/opc/package.py:127\u001b[0m, in \u001b[0;36mOpcPackage.open\u001b[0;34m(cls, pkg_file)\u001b[0m\n\u001b[1;32m    124\u001b[0m \u001b[38;5;129m@classmethod\u001b[39m\n\u001b[1;32m    125\u001b[0m \u001b[38;5;28;01mdef\u001b[39;00m \u001b[38;5;21mopen\u001b[39m(\u001b[38;5;28mcls\u001b[39m, pkg_file: \u001b[38;5;28mstr\u001b[39m \u001b[38;5;241m|\u001b[39m IO[\u001b[38;5;28mbytes\u001b[39m]) \u001b[38;5;241m-\u001b[39m\u001b[38;5;241m>\u001b[39m OpcPackage:\n\u001b[1;32m    126\u001b[0m \u001b[38;5;250m    \u001b[39m\u001b[38;5;124;03m\"\"\"Return an |OpcPackage| instance loaded with the contents of `pkg_file`.\"\"\"\u001b[39;00m\n\u001b[0;32m--> 127\u001b[0m     pkg_reader \u001b[38;5;241m=\u001b[39m \u001b[43mPackageReader\u001b[49m\u001b[38;5;241;43m.\u001b[39;49m\u001b[43mfrom_file\u001b[49m\u001b[43m(\u001b[49m\u001b[43mpkg_file\u001b[49m\u001b[43m)\u001b[49m\n\u001b[1;32m    128\u001b[0m     package \u001b[38;5;241m=\u001b[39m \u001b[38;5;28mcls\u001b[39m()\n\u001b[1;32m    129\u001b[0m     Unmarshaller\u001b[38;5;241m.\u001b[39munmarshal(pkg_reader, package, PartFactory)\n",
      "File \u001b[0;32m~/anaconda3/envs/kaaj/lib/python3.10/site-packages/docx/opc/pkgreader.py:22\u001b[0m, in \u001b[0;36mPackageReader.from_file\u001b[0;34m(pkg_file)\u001b[0m\n\u001b[1;32m     19\u001b[0m \u001b[38;5;129m@staticmethod\u001b[39m\n\u001b[1;32m     20\u001b[0m \u001b[38;5;28;01mdef\u001b[39;00m \u001b[38;5;21mfrom_file\u001b[39m(pkg_file):\n\u001b[1;32m     21\u001b[0m \u001b[38;5;250m    \u001b[39m\u001b[38;5;124;03m\"\"\"Return a |PackageReader| instance loaded with contents of `pkg_file`.\"\"\"\u001b[39;00m\n\u001b[0;32m---> 22\u001b[0m     phys_reader \u001b[38;5;241m=\u001b[39m \u001b[43mPhysPkgReader\u001b[49m\u001b[43m(\u001b[49m\u001b[43mpkg_file\u001b[49m\u001b[43m)\u001b[49m\n\u001b[1;32m     23\u001b[0m     content_types \u001b[38;5;241m=\u001b[39m _ContentTypeMap\u001b[38;5;241m.\u001b[39mfrom_xml(phys_reader\u001b[38;5;241m.\u001b[39mcontent_types_xml)\n\u001b[1;32m     24\u001b[0m     pkg_srels \u001b[38;5;241m=\u001b[39m PackageReader\u001b[38;5;241m.\u001b[39m_srels_for(phys_reader, PACKAGE_URI)\n",
      "File \u001b[0;32m~/anaconda3/envs/kaaj/lib/python3.10/site-packages/docx/opc/phys_pkg.py:21\u001b[0m, in \u001b[0;36mPhysPkgReader.__new__\u001b[0;34m(cls, pkg_file)\u001b[0m\n\u001b[1;32m     19\u001b[0m         reader_cls \u001b[38;5;241m=\u001b[39m _ZipPkgReader\n\u001b[1;32m     20\u001b[0m     \u001b[38;5;28;01melse\u001b[39;00m:\n\u001b[0;32m---> 21\u001b[0m         \u001b[38;5;28;01mraise\u001b[39;00m PackageNotFoundError(\u001b[38;5;124m\"\u001b[39m\u001b[38;5;124mPackage not found at \u001b[39m\u001b[38;5;124m'\u001b[39m\u001b[38;5;132;01m%s\u001b[39;00m\u001b[38;5;124m'\u001b[39m\u001b[38;5;124m\"\u001b[39m \u001b[38;5;241m%\u001b[39m pkg_file)\n\u001b[1;32m     22\u001b[0m \u001b[38;5;28;01melse\u001b[39;00m:  \u001b[38;5;66;03m# assume it's a stream and pass it to Zip reader to sort out\u001b[39;00m\n\u001b[1;32m     23\u001b[0m     reader_cls \u001b[38;5;241m=\u001b[39m _ZipPkgReader\n",
      "\u001b[0;31mPackageNotFoundError\u001b[0m: Package not found at '/Users/prashantgaurav/Projects/KaajAi/receipts/bank-statement-template-20 labeling.docx'"
     ]
    }
   ],
   "source": [
    "import openai\n",
    "import os\n",
    "client = openai.Client(api_key=os.environ.get(\"OPENAI_API_KEY\"))\n",
    "text = getText(FILE_NAME)"
   ]
  },
  {
   "cell_type": "code",
   "execution_count": 132,
   "id": "0d508e0f-2c8c-49f8-8fb6-09a306868fee",
   "metadata": {},
   "outputs": [],
   "source": [
    "doc = docx.Document(FILE_NAME)\n",
    "text = \"\"\n",
    "for table in doc.tables:\n",
    "    for row in table.rows:\n",
    "        for cell in row.cells:\n",
    "            text+= cell.text"
   ]
  },
  {
   "cell_type": "code",
   "execution_count": 133,
   "id": "2f7b19a3-ef06-4b98-8a6e-d59590df1498",
   "metadata": {},
   "outputs": [
    {
     "name": "stdout",
     "output_type": "stream",
     "text": [
      "DateDetailsWithdrawalsDepositsBalanceApr 8Opening Balance5,234.09Apr 8Insurance272.455,506.54Apr 10ATM200.005,306.54Apr 12Internet Transfer250.005,556.54Apr 12Payroll2100.007,656.54Apr 13Bill payment135.077,521.47Apr 14Direct debit200.007,321.47Apr 14Deposit250.007.567.87Apr 15Bill payment525.727,042.15Apr 17Bill payment327.636,714.52Apr 17Bill payment729.965,984.56Apr 18Bill payment223.695,710.87Closing Balance$5,710.87\n"
     ]
    }
   ],
   "source": [
    "print(text)"
   ]
  },
  {
   "cell_type": "code",
   "execution_count": 134,
   "id": "9ca32270-fbb0-4530-bc74-15293e407af1",
   "metadata": {},
   "outputs": [
    {
     "name": "stdout",
     "output_type": "stream",
     "text": [
      "CPU times: user 20.8 ms, sys: 3.49 ms, total: 24.3 ms\n",
      "Wall time: 12.9 s\n"
     ]
    }
   ],
   "source": [
    "%%time\n",
    "prompt = \"\"\"I'm going to give you the contents of a pdf of a bank statement. The text containes transaction records along with other things.\n",
    "you job is to parse each transaction record and return the details like date, description, amount and type. The type column should contain either \n",
    "'credit' or 'debit'. Return these information in a tabular format. Do not return anything else just the table\"\"\"\n",
    "\n",
    "docs = [{\"role\": \"system\", \"content\": prompt + '\\n' + text}]\n",
    "response = client.chat.completions.create(\n",
    "                model=\"gpt-4\",\n",
    "                messages=docs\n",
    "            )\n",
    "\n",
    "resp = response.choices[0].message.content"
   ]
  },
  {
   "cell_type": "code",
   "execution_count": 135,
   "id": "d2577d81-1d0c-4fce-8c2b-9e1f4c41731e",
   "metadata": {},
   "outputs": [
    {
     "name": "stdout",
     "output_type": "stream",
     "text": [
      "|   Date  |     Description    |   Amount  |   Type   |\n",
      "|:-------:|:------------------:|:---------:|:--------:|\n",
      "|  Apr 8  |   Insurance       |  272.45   |  Debit   |\n",
      "|  Apr 10 |   ATM             |  200.00   |  Debit   |\n",
      "|  Apr 12 | Internet Transfer |  250.00   |  Debit   |\n",
      "|  Apr 12 |   Payroll         |  2100.00  |  Credit  |\n",
      "|  Apr 13 |   Bill payment    |  135.07   |  Debit   |\n",
      "|  Apr 14 | Direct deposit    |  200.00   |  Debit   |\n",
      "|  Apr 14 |   Deposit         |  250.00   |  Credit  |\n",
      "|  Apr 15 |   Bill payment    |  525.72   |  Debit   |\n",
      "|  Apr 17 |   Bill payment    |  327.63   |  Debit   |\n",
      "|  Apr 17 |   Bill payment    |  729.96   |  Debit   |\n",
      "|  Apr 18 |   Bill payment    |  223.69   |  Debit   |\n"
     ]
    }
   ],
   "source": [
    "print(resp)"
   ]
  },
  {
   "cell_type": "code",
   "execution_count": 136,
   "id": "c2b90a3f-c233-4102-9d8c-f0c7c59253fe",
   "metadata": {},
   "outputs": [
    {
     "name": "stdout",
     "output_type": "stream",
     "text": [
      "[['Date', 'Description', 'Amount', 'Type'], ['::', '::', '::', '::'], ['Apr 8', 'Insurance', '272.45', 'Debit'], ['Apr 10', 'ATM', '200.00', 'Debit'], ['Apr 12', 'Internet Transfer', '250.00', 'Debit'], ['Apr 12', 'Payroll', '2100.00', 'Credit'], ['Apr 13', 'Bill payment', '135.07', 'Debit'], ['Apr 14', 'Direct deposit', '200.00', 'Debit'], ['Apr 14', 'Deposit', '250.00', 'Credit'], ['Apr 15', 'Bill payment', '525.72', 'Debit'], ['Apr 17', 'Bill payment', '327.63', 'Debit'], ['Apr 17', 'Bill payment', '729.96', 'Debit'], ['Apr 18', 'Bill payment', '223.69', 'Debit']]\n"
     ]
    }
   ],
   "source": [
    "def parse_response_table(resp):\n",
    "    lines = resp.strip().split(\"\\n\")\n",
    "    table = [line.split('|') for line in lines]\n",
    "    final_table = []\n",
    "    for line in table:\n",
    "        new_line = []\n",
    "        for ele in line:\n",
    "            ele = ele.replace('-','')\n",
    "            if ele :\n",
    "               new_line.append(ele.strip())\n",
    "        if not new_line:\n",
    "            continue\n",
    "        final_table.append(new_line)\n",
    "    print(final_table)\n",
    "    df = pd.DataFrame(final_table[1:],columns=final_table[0])\n",
    "    return df\n",
    "df = parse_response_table(resp)"
   ]
  },
  {
   "cell_type": "code",
   "execution_count": 137,
   "id": "c66a7261-e1ed-4123-954d-17fa388d4c59",
   "metadata": {},
   "outputs": [
    {
     "data": {
      "text/html": [
       "<div>\n",
       "<style scoped>\n",
       "    .dataframe tbody tr th:only-of-type {\n",
       "        vertical-align: middle;\n",
       "    }\n",
       "\n",
       "    .dataframe tbody tr th {\n",
       "        vertical-align: top;\n",
       "    }\n",
       "\n",
       "    .dataframe thead th {\n",
       "        text-align: right;\n",
       "    }\n",
       "</style>\n",
       "<table border=\"1\" class=\"dataframe\">\n",
       "  <thead>\n",
       "    <tr style=\"text-align: right;\">\n",
       "      <th></th>\n",
       "      <th>Date</th>\n",
       "      <th>Description</th>\n",
       "      <th>Amount</th>\n",
       "      <th>Type</th>\n",
       "    </tr>\n",
       "  </thead>\n",
       "  <tbody>\n",
       "    <tr>\n",
       "      <th>0</th>\n",
       "      <td>::</td>\n",
       "      <td>::</td>\n",
       "      <td>::</td>\n",
       "      <td>::</td>\n",
       "    </tr>\n",
       "    <tr>\n",
       "      <th>1</th>\n",
       "      <td>Apr 8</td>\n",
       "      <td>Insurance</td>\n",
       "      <td>272.45</td>\n",
       "      <td>Debit</td>\n",
       "    </tr>\n",
       "    <tr>\n",
       "      <th>2</th>\n",
       "      <td>Apr 10</td>\n",
       "      <td>ATM</td>\n",
       "      <td>200.00</td>\n",
       "      <td>Debit</td>\n",
       "    </tr>\n",
       "    <tr>\n",
       "      <th>3</th>\n",
       "      <td>Apr 12</td>\n",
       "      <td>Internet Transfer</td>\n",
       "      <td>250.00</td>\n",
       "      <td>Debit</td>\n",
       "    </tr>\n",
       "    <tr>\n",
       "      <th>4</th>\n",
       "      <td>Apr 12</td>\n",
       "      <td>Payroll</td>\n",
       "      <td>2100.00</td>\n",
       "      <td>Credit</td>\n",
       "    </tr>\n",
       "    <tr>\n",
       "      <th>5</th>\n",
       "      <td>Apr 13</td>\n",
       "      <td>Bill payment</td>\n",
       "      <td>135.07</td>\n",
       "      <td>Debit</td>\n",
       "    </tr>\n",
       "    <tr>\n",
       "      <th>6</th>\n",
       "      <td>Apr 14</td>\n",
       "      <td>Direct deposit</td>\n",
       "      <td>200.00</td>\n",
       "      <td>Debit</td>\n",
       "    </tr>\n",
       "    <tr>\n",
       "      <th>7</th>\n",
       "      <td>Apr 14</td>\n",
       "      <td>Deposit</td>\n",
       "      <td>250.00</td>\n",
       "      <td>Credit</td>\n",
       "    </tr>\n",
       "    <tr>\n",
       "      <th>8</th>\n",
       "      <td>Apr 15</td>\n",
       "      <td>Bill payment</td>\n",
       "      <td>525.72</td>\n",
       "      <td>Debit</td>\n",
       "    </tr>\n",
       "    <tr>\n",
       "      <th>9</th>\n",
       "      <td>Apr 17</td>\n",
       "      <td>Bill payment</td>\n",
       "      <td>327.63</td>\n",
       "      <td>Debit</td>\n",
       "    </tr>\n",
       "    <tr>\n",
       "      <th>10</th>\n",
       "      <td>Apr 17</td>\n",
       "      <td>Bill payment</td>\n",
       "      <td>729.96</td>\n",
       "      <td>Debit</td>\n",
       "    </tr>\n",
       "    <tr>\n",
       "      <th>11</th>\n",
       "      <td>Apr 18</td>\n",
       "      <td>Bill payment</td>\n",
       "      <td>223.69</td>\n",
       "      <td>Debit</td>\n",
       "    </tr>\n",
       "  </tbody>\n",
       "</table>\n",
       "</div>"
      ],
      "text/plain": [
       "      Date        Description   Amount    Type\n",
       "0       ::                 ::       ::      ::\n",
       "1    Apr 8          Insurance   272.45   Debit\n",
       "2   Apr 10                ATM   200.00   Debit\n",
       "3   Apr 12  Internet Transfer   250.00   Debit\n",
       "4   Apr 12            Payroll  2100.00  Credit\n",
       "5   Apr 13       Bill payment   135.07   Debit\n",
       "6   Apr 14     Direct deposit   200.00   Debit\n",
       "7   Apr 14            Deposit   250.00  Credit\n",
       "8   Apr 15       Bill payment   525.72   Debit\n",
       "9   Apr 17       Bill payment   327.63   Debit\n",
       "10  Apr 17       Bill payment   729.96   Debit\n",
       "11  Apr 18       Bill payment   223.69   Debit"
      ]
     },
     "execution_count": 137,
     "metadata": {},
     "output_type": "execute_result"
    }
   ],
   "source": [
    "df"
   ]
  },
  {
   "cell_type": "code",
   "execution_count": null,
   "id": "0121953b-3f4b-4f04-adeb-65d9b2da0f05",
   "metadata": {},
   "outputs": [],
   "source": []
  }
 ],
 "metadata": {
  "kernelspec": {
   "display_name": "Python 3 (ipykernel)",
   "language": "python",
   "name": "python3"
  },
  "language_info": {
   "codemirror_mode": {
    "name": "ipython",
    "version": 3
   },
   "file_extension": ".py",
   "mimetype": "text/x-python",
   "name": "python",
   "nbconvert_exporter": "python",
   "pygments_lexer": "ipython3",
   "version": "3.10.14"
  }
 },
 "nbformat": 4,
 "nbformat_minor": 5
}
